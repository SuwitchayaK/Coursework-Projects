{
 "cells": [
  {
   "cell_type": "markdown",
   "id": "3178abb8",
   "metadata": {},
   "source": [
    "# PartIIB: Linear and Logistic Regression"
   ]
  },
  {
   "cell_type": "markdown",
   "id": "9818338a",
   "metadata": {},
   "source": [
    "In this part, I will use Random Forest and ANOVA F-test to select features to include into regression models. These methods can be used when the target variable is binary. During features selection process, I will drop variables which have high correlations with variables with higher contributions to avoid multicollinearity. The threshold for correlations is 0.8. Before running regressions, I will split the data into training and test sets for each model. After that, I will compare whether which approach gives better result. I will use R-square and mse as measurements.\n",
    "\n",
    "Note: the Neural Networks part is in the other file as I have problem when I import tensorflow using this notebook."
   ]
  },
  {
   "cell_type": "code",
   "execution_count": 38,
   "id": "e80fb8be",
   "metadata": {},
   "outputs": [],
   "source": [
    "#import libraries\n",
    "import pandas as pd\n",
    "import matplotlib.pyplot as plt\n",
    "from sklearn.linear_model import Ridge, Lasso, LogisticRegression\n",
    "from sklearn.metrics import r2_score, mean_squared_error, accuracy_score, classification_report\n",
    "from sklearn.model_selection import train_test_split\n",
    "from sklearn.preprocessing import OneHotEncoder, StandardScaler"
   ]
  },
  {
   "cell_type": "code",
   "execution_count": 3,
   "id": "b4a71688",
   "metadata": {},
   "outputs": [],
   "source": [
    "#Download file\n",
    "data = pd.read_csv(\"MLF_GP1_CreditScore.csv\")"
   ]
  },
  {
   "cell_type": "code",
   "execution_count": 3,
   "id": "b4a97388",
   "metadata": {},
   "outputs": [
    {
     "data": {
      "text/html": [
       "<div>\n",
       "<style scoped>\n",
       "    .dataframe tbody tr th:only-of-type {\n",
       "        vertical-align: middle;\n",
       "    }\n",
       "\n",
       "    .dataframe tbody tr th {\n",
       "        vertical-align: top;\n",
       "    }\n",
       "\n",
       "    .dataframe thead th {\n",
       "        text-align: right;\n",
       "    }\n",
       "</style>\n",
       "<table border=\"1\" class=\"dataframe\">\n",
       "  <thead>\n",
       "    <tr style=\"text-align: right;\">\n",
       "      <th></th>\n",
       "      <th>Sales/Revenues</th>\n",
       "      <th>Gross Margin</th>\n",
       "      <th>EBITDA</th>\n",
       "      <th>EBITDA Margin</th>\n",
       "      <th>Net Income Before Extras</th>\n",
       "      <th>Total Debt</th>\n",
       "      <th>Net Debt</th>\n",
       "      <th>LT Debt</th>\n",
       "      <th>ST Debt</th>\n",
       "      <th>Cash</th>\n",
       "      <th>...</th>\n",
       "      <th>Interest Coverage</th>\n",
       "      <th>Total Liquidity</th>\n",
       "      <th>Current Liquidity</th>\n",
       "      <th>Current Liabilities</th>\n",
       "      <th>EPS Before Extras</th>\n",
       "      <th>PE</th>\n",
       "      <th>ROA</th>\n",
       "      <th>ROE</th>\n",
       "      <th>InvGrd</th>\n",
       "      <th>Rating</th>\n",
       "    </tr>\n",
       "  </thead>\n",
       "  <tbody>\n",
       "    <tr>\n",
       "      <th>0</th>\n",
       "      <td>-0.005496</td>\n",
       "      <td>0.030763</td>\n",
       "      <td>0.018885</td>\n",
       "      <td>0.024515</td>\n",
       "      <td>0.146849</td>\n",
       "      <td>-0.029710</td>\n",
       "      <td>-0.019296</td>\n",
       "      <td>-0.042648</td>\n",
       "      <td>0.049875</td>\n",
       "      <td>-0.133716</td>\n",
       "      <td>...</td>\n",
       "      <td>0.136748</td>\n",
       "      <td>0.392143</td>\n",
       "      <td>-0.184887</td>\n",
       "      <td>0.062781</td>\n",
       "      <td>0.148305</td>\n",
       "      <td>0.100409</td>\n",
       "      <td>0.163266</td>\n",
       "      <td>0.102521</td>\n",
       "      <td>1</td>\n",
       "      <td>A1</td>\n",
       "    </tr>\n",
       "    <tr>\n",
       "      <th>1</th>\n",
       "      <td>-0.005496</td>\n",
       "      <td>0.030763</td>\n",
       "      <td>0.088716</td>\n",
       "      <td>0.094733</td>\n",
       "      <td>0.146849</td>\n",
       "      <td>-0.029710</td>\n",
       "      <td>-0.019296</td>\n",
       "      <td>-0.042648</td>\n",
       "      <td>0.049875</td>\n",
       "      <td>-0.133716</td>\n",
       "      <td>...</td>\n",
       "      <td>0.214657</td>\n",
       "      <td>0.392143</td>\n",
       "      <td>-0.184887</td>\n",
       "      <td>0.062781</td>\n",
       "      <td>0.148305</td>\n",
       "      <td>-0.089598</td>\n",
       "      <td>0.163266</td>\n",
       "      <td>0.102521</td>\n",
       "      <td>1</td>\n",
       "      <td>A1</td>\n",
       "    </tr>\n",
       "    <tr>\n",
       "      <th>2</th>\n",
       "      <td>-0.007045</td>\n",
       "      <td>0.023159</td>\n",
       "      <td>0.088716</td>\n",
       "      <td>0.096440</td>\n",
       "      <td>0.108590</td>\n",
       "      <td>0.039410</td>\n",
       "      <td>0.034268</td>\n",
       "      <td>0.009059</td>\n",
       "      <td>0.250371</td>\n",
       "      <td>0.101315</td>\n",
       "      <td>...</td>\n",
       "      <td>0.205290</td>\n",
       "      <td>0.483257</td>\n",
       "      <td>-0.017877</td>\n",
       "      <td>0.121357</td>\n",
       "      <td>0.110656</td>\n",
       "      <td>-0.045142</td>\n",
       "      <td>0.105711</td>\n",
       "      <td>0.103378</td>\n",
       "      <td>1</td>\n",
       "      <td>A1</td>\n",
       "    </tr>\n",
       "    <tr>\n",
       "      <th>3</th>\n",
       "      <td>-0.009396</td>\n",
       "      <td>0.028400</td>\n",
       "      <td>0.088716</td>\n",
       "      <td>0.099046</td>\n",
       "      <td>0.146137</td>\n",
       "      <td>0.030071</td>\n",
       "      <td>0.036938</td>\n",
       "      <td>-0.016964</td>\n",
       "      <td>0.356994</td>\n",
       "      <td>-0.052606</td>\n",
       "      <td>...</td>\n",
       "      <td>0.232991</td>\n",
       "      <td>0.996955</td>\n",
       "      <td>-0.122017</td>\n",
       "      <td>0.079051</td>\n",
       "      <td>0.151639</td>\n",
       "      <td>-0.008231</td>\n",
       "      <td>0.162421</td>\n",
       "      <td>0.132295</td>\n",
       "      <td>1</td>\n",
       "      <td>A1</td>\n",
       "    </tr>\n",
       "    <tr>\n",
       "      <th>4</th>\n",
       "      <td>-0.009009</td>\n",
       "      <td>0.027714</td>\n",
       "      <td>0.088716</td>\n",
       "      <td>0.098611</td>\n",
       "      <td>0.123500</td>\n",
       "      <td>0.024224</td>\n",
       "      <td>0.034445</td>\n",
       "      <td>-0.034132</td>\n",
       "      <td>0.461894</td>\n",
       "      <td>-0.090869</td>\n",
       "      <td>...</td>\n",
       "      <td>0.172906</td>\n",
       "      <td>1.711426</td>\n",
       "      <td>-0.161561</td>\n",
       "      <td>0.084319</td>\n",
       "      <td>0.130435</td>\n",
       "      <td>0.015528</td>\n",
       "      <td>0.156427</td>\n",
       "      <td>0.225144</td>\n",
       "      <td>1</td>\n",
       "      <td>A1</td>\n",
       "    </tr>\n",
       "  </tbody>\n",
       "</table>\n",
       "<p>5 rows × 28 columns</p>\n",
       "</div>"
      ],
      "text/plain": [
       "   Sales/Revenues  Gross Margin    EBITDA  EBITDA Margin  \\\n",
       "0       -0.005496      0.030763  0.018885       0.024515   \n",
       "1       -0.005496      0.030763  0.088716       0.094733   \n",
       "2       -0.007045      0.023159  0.088716       0.096440   \n",
       "3       -0.009396      0.028400  0.088716       0.099046   \n",
       "4       -0.009009      0.027714  0.088716       0.098611   \n",
       "\n",
       "   Net Income Before Extras  Total Debt  Net Debt   LT Debt   ST Debt  \\\n",
       "0                  0.146849   -0.029710 -0.019296 -0.042648  0.049875   \n",
       "1                  0.146849   -0.029710 -0.019296 -0.042648  0.049875   \n",
       "2                  0.108590    0.039410  0.034268  0.009059  0.250371   \n",
       "3                  0.146137    0.030071  0.036938 -0.016964  0.356994   \n",
       "4                  0.123500    0.024224  0.034445 -0.034132  0.461894   \n",
       "\n",
       "       Cash  ...  Interest Coverage  Total Liquidity  Current Liquidity  \\\n",
       "0 -0.133716  ...           0.136748         0.392143          -0.184887   \n",
       "1 -0.133716  ...           0.214657         0.392143          -0.184887   \n",
       "2  0.101315  ...           0.205290         0.483257          -0.017877   \n",
       "3 -0.052606  ...           0.232991         0.996955          -0.122017   \n",
       "4 -0.090869  ...           0.172906         1.711426          -0.161561   \n",
       "\n",
       "   Current Liabilities  EPS Before Extras        PE       ROA       ROE  \\\n",
       "0             0.062781           0.148305  0.100409  0.163266  0.102521   \n",
       "1             0.062781           0.148305 -0.089598  0.163266  0.102521   \n",
       "2             0.121357           0.110656 -0.045142  0.105711  0.103378   \n",
       "3             0.079051           0.151639 -0.008231  0.162421  0.132295   \n",
       "4             0.084319           0.130435  0.015528  0.156427  0.225144   \n",
       "\n",
       "   InvGrd  Rating  \n",
       "0       1      A1  \n",
       "1       1      A1  \n",
       "2       1      A1  \n",
       "3       1      A1  \n",
       "4       1      A1  \n",
       "\n",
       "[5 rows x 28 columns]"
      ]
     },
     "execution_count": 3,
     "metadata": {},
     "output_type": "execute_result"
    }
   ],
   "source": [
    "data.head()"
   ]
  },
  {
   "cell_type": "code",
   "execution_count": 4,
   "id": "82f2c4a2",
   "metadata": {},
   "outputs": [
    {
     "name": "stdout",
     "output_type": "stream",
     "text": [
      "<class 'pandas.core.frame.DataFrame'>\n",
      "RangeIndex: 1700 entries, 0 to 1699\n",
      "Data columns (total 28 columns):\n",
      " #   Column                    Non-Null Count  Dtype  \n",
      "---  ------                    --------------  -----  \n",
      " 0   Sales/Revenues            1700 non-null   float64\n",
      " 1   Gross Margin              1700 non-null   float64\n",
      " 2   EBITDA                    1700 non-null   float64\n",
      " 3   EBITDA Margin             1700 non-null   float64\n",
      " 4   Net Income Before Extras  1700 non-null   float64\n",
      " 5   Total Debt                1700 non-null   float64\n",
      " 6   Net Debt                  1700 non-null   float64\n",
      " 7   LT Debt                   1700 non-null   float64\n",
      " 8   ST Debt                   1700 non-null   float64\n",
      " 9   Cash                      1700 non-null   float64\n",
      " 10  Free Cash Flow            1700 non-null   float64\n",
      " 11  Total Debt/EBITDA         1700 non-null   float64\n",
      " 12  Net Debt/EBITDA           1700 non-null   float64\n",
      " 13  Total MV                  1700 non-null   float64\n",
      " 14  Total Debt/MV             1700 non-null   float64\n",
      " 15  Net Debt/MV               1700 non-null   float64\n",
      " 16  CFO/Debt                  1700 non-null   float64\n",
      " 17  CFO                       1700 non-null   float64\n",
      " 18  Interest Coverage         1700 non-null   float64\n",
      " 19  Total Liquidity           1700 non-null   float64\n",
      " 20  Current Liquidity         1700 non-null   float64\n",
      " 21  Current Liabilities       1700 non-null   float64\n",
      " 22  EPS Before Extras         1700 non-null   float64\n",
      " 23  PE                        1700 non-null   float64\n",
      " 24  ROA                       1700 non-null   float64\n",
      " 25  ROE                       1700 non-null   float64\n",
      " 26  InvGrd                    1700 non-null   int64  \n",
      " 27  Rating                    1700 non-null   object \n",
      "dtypes: float64(26), int64(1), object(1)\n",
      "memory usage: 372.0+ KB\n"
     ]
    }
   ],
   "source": [
    "#Get information of the dataset and check missing values\n",
    "data.info()"
   ]
  },
  {
   "cell_type": "code",
   "execution_count": 43,
   "id": "400c17b9",
   "metadata": {},
   "outputs": [
    {
     "data": {
      "image/png": "[encoded data removed]",
      "text/plain": [
       "<Figure size 432x288 with 1 Axes>"
      ]
     },
     "metadata": {
      "needs_background": "light"
     },
     "output_type": "display_data"
    }
   ],
   "source": [
    "#Plot histogram for Investment Grade\n",
    "plt.hist(data['InvGrd'], bins=[-0.5, 0.5, 1.5], edgecolor='black', rwidth=0.8)\n",
    "plt.xticks([0, 1])\n",
    "plt.xlabel('Binary Values')\n",
    "plt.ylabel('Frequency')\n",
    "plt.title('Investment Grade')\n",
    "plt.show()"
   ]
  },
  {
   "cell_type": "markdown",
   "id": "44fe79c7",
   "metadata": {},
   "source": [
    "The binary values are not equally distributed. We can see that there are about 1300 firms that are investment grade, while there are about 400 firms that are not investment grade."
   ]
  },
  {
   "cell_type": "code",
   "execution_count": 49,
   "id": "cb160e21",
   "metadata": {},
   "outputs": [
    {
     "data": {
      "image/png": "[encoded data removed]",
      "text/plain": [
       "<Figure size 504x504 with 1 Axes>"
      ]
     },
     "metadata": {},
     "output_type": "display_data"
    }
   ],
   "source": [
    "#Create pie chart for Credit Rating\n",
    "#Create frequency for each unique value from 'Rating' column\n",
    "value_counts = {}\n",
    "for i in data['Rating']:\n",
    "    if i in value_counts:\n",
    "        value_counts[i] += 1\n",
    "    else:\n",
    "        value_counts[i] = 1\n",
    "\n",
    "#Get unique values and their frequency\n",
    "labels = list(value_counts.keys())\n",
    "sizes = list(value_counts.values())\n",
    "\n",
    "#Set figure size\n",
    "plt.figure(figsize=(7, 7))\n",
    "\n",
    "# Plot pie chart\n",
    "plt.pie(sizes, labels=labels, autopct='%1.1f%%')\n",
    "plt.title('Credit Rating')\n",
    "plt.show()"
   ]
  },
  {
   "cell_type": "markdown",
   "id": "59ce1fed",
   "metadata": {},
   "source": [
    "There are more firms that have credit rating Baa2 (19.2%), while there are very small amount of firms that have credit rating Caa1 (0.5%). We can see that the numbers of firms having each credit rating are not balance."
   ]
  },
  {
   "cell_type": "code",
   "execution_count": 4,
   "id": "a57da3e1",
   "metadata": {},
   "outputs": [],
   "source": [
    "#Separate features and target variables for linear regression and logistic regression\n",
    "X = data.iloc[:, : -2] #exclude target variables from the feature variables\n",
    "y_inv = data.iloc[:, -2] #Select second-last column as target variable"
   ]
  },
  {
   "cell_type": "markdown",
   "id": "6c83d652",
   "metadata": {},
   "source": [
    "# Feature Selection"
   ]
  },
  {
   "cell_type": "markdown",
   "id": "faa7ca77",
   "metadata": {},
   "source": [
    "In this part, I will use Random Forest and ANOVA F-test for features selection. The higher the scores, either from Random Forest or ANOVA F-test, mean the more contributions of those features on the target variable."
   ]
  },
  {
   "cell_type": "markdown",
   "id": "0d092cd1",
   "metadata": {},
   "source": [
    "# Random Forest"
   ]
  },
  {
   "cell_type": "code",
   "execution_count": 5,
   "id": "2f093c8e",
   "metadata": {},
   "outputs": [],
   "source": [
    "#import required library\n",
    "from sklearn.ensemble import RandomForestClassifier"
   ]
  },
  {
   "cell_type": "code",
   "execution_count": 6,
   "id": "07fbcb60",
   "metadata": {},
   "outputs": [
    {
     "data": {
      "text/plain": [
       "RandomForestClassifier(random_state=511)"
      ]
     },
     "execution_count": 6,
     "metadata": {},
     "output_type": "execute_result"
    }
   ],
   "source": [
    "#Create and fit random forest\n",
    "random_forest_inv = RandomForestClassifier(n_estimators=100, random_state=511)\n",
    "random_forest_inv.fit(X, y_inv)"
   ]
  },
  {
   "cell_type": "code",
   "execution_count": 7,
   "id": "a50ee6c1",
   "metadata": {},
   "outputs": [],
   "source": [
    "#Get features according to feature importances that build up a decision tree\n",
    "features_inv = pd.Series(random_forest_inv.feature_importances_, index=X.columns).sort_values(ascending=False)"
   ]
  },
  {
   "cell_type": "code",
   "execution_count": 9,
   "id": "c4dec412",
   "metadata": {},
   "outputs": [
    {
     "data": {
      "text/plain": [
       "Free Cash Flow              0.058884\n",
       "CFO                         0.055622\n",
       "Total MV                    0.051034\n",
       "ROA                         0.050791\n",
       "Net Income Before Extras    0.047199\n",
       "EBITDA                      0.045876\n",
       "PE                          0.045743\n",
       "CFO/Debt                    0.045613\n",
       "Current Liquidity           0.043383\n",
       "Sales/Revenues              0.042414\n",
       "Cash                        0.041073\n",
       "Gross Margin                0.040711\n",
       "ROE                         0.039559\n",
       "EBITDA Margin               0.037232\n",
       "EPS Before Extras           0.037196\n",
       "Total Debt/MV               0.034443\n",
       "Net Debt/MV                 0.032922\n",
       "Total Debt                  0.032188\n",
       "Net Debt                    0.029114\n",
       "LT Debt                     0.029066\n",
       "Total Liquidity             0.027954\n",
       "Interest Coverage           0.027499\n",
       "Total Debt/EBITDA           0.027075\n",
       "Current Liabilities         0.026512\n",
       "ST Debt                     0.025619\n",
       "Net Debt/EBITDA             0.025280\n",
       "dtype: float64"
      ]
     },
     "execution_count": 9,
     "metadata": {},
     "output_type": "execute_result"
    }
   ],
   "source": [
    "features_inv"
   ]
  },
  {
   "cell_type": "markdown",
   "id": "d8d58fd9",
   "metadata": {},
   "source": [
    "# Anova F-test"
   ]
  },
  {
   "cell_type": "code",
   "execution_count": 9,
   "id": "eee1fae3",
   "metadata": {},
   "outputs": [],
   "source": [
    "#import required library\n",
    "from sklearn.feature_selection import f_classif, SelectKBest"
   ]
  },
  {
   "cell_type": "code",
   "execution_count": 10,
   "id": "967eb259",
   "metadata": {},
   "outputs": [],
   "source": [
    "#Calculate F-score for features selection for Investment Grade\n",
    "select = SelectKBest(score_func=f_classif, k=10)\n",
    "features_selected = select.fit_transform(X, y_inv)\n",
    "f_scores_inv = pd.Series(select.scores_, index=X.columns).sort_values(ascending=False)"
   ]
  },
  {
   "cell_type": "code",
   "execution_count": 11,
   "id": "7e75eb48",
   "metadata": {},
   "outputs": [
    {
     "data": {
      "text/plain": [
       "Total MV                    15.615525\n",
       "Current Liquidity           15.026387\n",
       "Total Debt                  13.981950\n",
       "Total Debt/EBITDA           13.711943\n",
       "Cash                        13.519462\n",
       "Total Debt/MV               12.916831\n",
       "EBITDA                      12.637489\n",
       "Sales/Revenues              11.168591\n",
       "Gross Margin                 7.452172\n",
       "LT Debt                      6.481413\n",
       "CFO/Debt                     4.739131\n",
       "CFO                          4.148539\n",
       "Net Debt                     3.028504\n",
       "Net Debt/MV                  2.632223\n",
       "Net Debt/EBITDA              1.570117\n",
       "Net Income Before Extras     1.324571\n",
       "EPS Before Extras            1.298699\n",
       "Free Cash Flow               1.184904\n",
       "Interest Coverage            1.085629\n",
       "EBITDA Margin                0.987733\n",
       "ROA                          0.906653\n",
       "PE                           0.802622\n",
       "ROE                          0.683285\n",
       "Current Liabilities          0.615749\n",
       "Total Liquidity              0.441166\n",
       "ST Debt                      0.015572\n",
       "dtype: float64"
      ]
     },
     "execution_count": 11,
     "metadata": {},
     "output_type": "execute_result"
    }
   ],
   "source": [
    "f_scores_inv"
   ]
  },
  {
   "cell_type": "markdown",
   "id": "781510c9",
   "metadata": {},
   "source": [
    "# Heatmap for Correlations between Features"
   ]
  },
  {
   "cell_type": "code",
   "execution_count": 13,
   "id": "3c25723c",
   "metadata": {},
   "outputs": [
    {
     "data": {
      "image/png": "[encoded data removed]",
      "text/plain": [
       "<Figure size 864x648 with 2 Axes>"
      ]
     },
     "metadata": {
      "needs_background": "light"
     },
     "output_type": "display_data"
    }
   ],
   "source": [
    "#Create heatmap to see correlations between continuous variables\n",
    "import seaborn as sns\n",
    "import matplotlib.pyplot as plt\n",
    "\n",
    "#Calculate correlation for continuous variables\n",
    "corr = X.corr()\n",
    "\n",
    "#Set figure size\n",
    "plt.figure(figsize=(12, 9))\n",
    "\n",
    "#Create heatmap\n",
    "heatmap = sns.heatmap(corr, cmap='viridis', vmin=0, vmax=1)\n",
    "\n",
    "#Plot title and axis labels\n",
    "heatmap.set_title('Feature Correlations')\n",
    "\n",
    "# Show plot\n",
    "plt.show()"
   ]
  },
  {
   "cell_type": "markdown",
   "id": "ae9e95ea",
   "metadata": {},
   "source": [
    "I created heatmap to see correlations between each continuous feature. If the correlation is higher than 0.8, I will drop variable that has lower Random Forest or F-score. This is to avoid multicolinearity within the model. I will include 6 variables that have highest scores excluding ones with high correlation into the model.\n",
    "\n",
    "For model based on Random Forest, I will include CFO, Free Cash Flow, ROA, PE, EBITDA, and Total MV into the model. For model based on ANOVA F-test, I will choose to include Total MV, Current Liquidity, Total Debt, EBITDA, Gross Margin, and Sales/Revenues into the model for regressions. I still include both EBITDA and Sales/Revenues despite a moderate correlation (about 0.6). This is because EBITDA indicates profitability of a firm, while Sales/Revenues focuses on the amount of sales in a firm."
   ]
  },
  {
   "cell_type": "markdown",
   "id": "083c6d7a",
   "metadata": {},
   "source": [
    "# Section I: Linear Regression"
   ]
  },
  {
   "cell_type": "markdown",
   "id": "d1afc930",
   "metadata": {},
   "source": [
    "# Split Dataset"
   ]
  },
  {
   "cell_type": "code",
   "execution_count": 12,
   "id": "c0db58a6",
   "metadata": {},
   "outputs": [],
   "source": [
    "#Filter dataset for only selected features based on Random Forest\n",
    "filtered_rf = X[['CFO', 'Free Cash Flow', 'ROA', 'PE', 'Total MV', 'EBITDA']]\n",
    "\n",
    "#Filter dataset for only selected features based on ANOVA F-test\n",
    "filtered_anova = X[['Total MV', 'Current Liquidity', 'Total Debt', 'EBITDA', 'Sales/Revenues', 'Gross Margin']]"
   ]
  },
  {
   "cell_type": "code",
   "execution_count": 13,
   "id": "ff35dfcf",
   "metadata": {},
   "outputs": [],
   "source": [
    "#Split train and test sets\n",
    "X_train_rf, X_test_rf, y_train_rf, y_test_rf = train_test_split(filtered_rf, y_inv, test_size=0.2, random_state=511)\n",
    "X_train_anova, X_test_anova, y_train_anova, y_test_anova = train_test_split(filtered_anova, y_inv, test_size=0.2, random_state=511)"
   ]
  },
  {
   "cell_type": "code",
   "execution_count": 14,
   "id": "96d9724c",
   "metadata": {},
   "outputs": [],
   "source": [
    "#Standardize data\n",
    "scaler = StandardScaler()\n",
    "X_train_rf = scaler.fit_transform(X_train_rf)\n",
    "X_test_rf = scaler.fit_transform(X_test_rf)\n",
    "X_train_anova = scaler.fit_transform(X_train_anova)\n",
    "X_test_anova = scaler.fit_transform(X_test_anova)"
   ]
  },
  {
   "cell_type": "markdown",
   "id": "a1504f28",
   "metadata": {},
   "source": [
    "I standardized data using 'StandardScaler()' because each feature may have different scales. This is to ensure that Ridge and Lasso regularization will treat each feature equally."
   ]
  },
  {
   "cell_type": "code",
   "execution_count": 17,
   "id": "0e918c44",
   "metadata": {},
   "outputs": [
    {
     "name": "stdout",
     "output_type": "stream",
     "text": [
      "1360 340\n",
      "1360 340\n",
      "1360 340\n",
      "1360 340\n"
     ]
    }
   ],
   "source": [
    "#Check number of observations in train and test set\n",
    "print(len(X_train_rf), len(X_test_rf))\n",
    "print(len(y_train_rf), len(y_test_rf))\n",
    "print(len(X_train_anova), len(X_test_anova))\n",
    "print(len(y_train_anova), len(y_test_anova))"
   ]
  },
  {
   "cell_type": "markdown",
   "id": "dcd3e09f",
   "metadata": {},
   "source": [
    "# Ridge Regularization"
   ]
  },
  {
   "cell_type": "markdown",
   "id": "f09828f8",
   "metadata": {},
   "source": [
    "Linear Regression using Ridge Rularization based on Random Forest"
   ]
  },
  {
   "cell_type": "code",
   "execution_count": 45,
   "id": "8c840a21",
   "metadata": {},
   "outputs": [],
   "source": [
    "#Linear regression using Ridge for training set based on Random Forest\n",
    "ridge = Ridge(alpha=1.0)\n",
    "ridge.fit(X_train_rf, y_train_rf)\n",
    "\n",
    "#Predict test set\n",
    "y_ridge_pred_rf = ridge.predict(X_test_rf)"
   ]
  },
  {
   "cell_type": "code",
   "execution_count": 46,
   "id": "c8431ed8",
   "metadata": {},
   "outputs": [],
   "source": [
    "#Get R-square and mse\n",
    "r2_ridge_rf = r2_score(y_test_rf, y_ridge_pred_rf)\n",
    "mse_ridge_rf = mean_squared_error(y_test_rf, y_ridge_pred_rf)"
   ]
  },
  {
   "cell_type": "markdown",
   "id": "35a42445",
   "metadata": {},
   "source": [
    "Linear Regression using Ridge Rularization based on ANOVA F-test"
   ]
  },
  {
   "cell_type": "code",
   "execution_count": 15,
   "id": "d5598c31",
   "metadata": {},
   "outputs": [],
   "source": [
    "#Linear regression using Ridge for training set based on Random Forest\n",
    "ridge = Ridge(alpha=1.0)\n",
    "ridge.fit(X_train_anova, y_train_anova)\n",
    "\n",
    "#Predict test set\n",
    "y_ridge_pred_anova = ridge.predict(X_test_anova)"
   ]
  },
  {
   "cell_type": "code",
   "execution_count": 16,
   "id": "c93863b8",
   "metadata": {},
   "outputs": [],
   "source": [
    "#Get R-square and mse\n",
    "r2_ridge_anova = r2_score(y_test_anova, y_ridge_pred_anova)\n",
    "mse_ridge_anova = mean_squared_error(y_test_anova, y_ridge_pred_anova)"
   ]
  },
  {
   "cell_type": "markdown",
   "id": "5ac1b1d8",
   "metadata": {},
   "source": [
    "The results are shown below"
   ]
  },
  {
   "cell_type": "code",
   "execution_count": 49,
   "id": "2b074126",
   "metadata": {},
   "outputs": [
    {
     "name": "stdout",
     "output_type": "stream",
     "text": [
      "The R-square using Ridge Regularization based on Random Forest is  -0.016428511113759647\n",
      "The mean square error using ridge Regularization based on Random Forest is  0.17475360431129733\n",
      "The R-square using Ridge Regularization based on ANOVA F-test is  -0.021890960036442753\n",
      "The mean square error using Ridge Regularization based on ANOVA F-test is  0.17569275805124826\n"
     ]
    }
   ],
   "source": [
    "print('The R-square using Ridge Regularization based on Random Forest is ', r2_ridge_rf)\n",
    "print('The mean square error using ridge Regularization based on Random Forest is ', mse_ridge_rf)\n",
    "print('The R-square using Ridge Regularization based on ANOVA F-test is ', r2_ridge_anova)\n",
    "print('The mean square error using Ridge Regularization based on ANOVA F-test is ', mse_ridge_anova)"
   ]
  },
  {
   "cell_type": "markdown",
   "id": "753ef3bb",
   "metadata": {},
   "source": [
    "The model based on Random Forest for feature selection is slightly better than the model based on ANOVA F-test. However, the R-square is negative and the mse is large. It means that the model poorly explain the target variable and the expected and actual values are largely different."
   ]
  },
  {
   "cell_type": "markdown",
   "id": "6fa87509",
   "metadata": {},
   "source": [
    "# Lasso Regularization"
   ]
  },
  {
   "cell_type": "markdown",
   "id": "46e3f973",
   "metadata": {},
   "source": [
    "Linear Regression using Lasso Rularization based on Random Forest"
   ]
  },
  {
   "cell_type": "code",
   "execution_count": 23,
   "id": "352b111e",
   "metadata": {},
   "outputs": [],
   "source": [
    "#Linear regression using Lasso for training set based on Random Forest\n",
    "lasso = Lasso(alpha=1.0)\n",
    "lasso.fit(X_train_rf, y_train_rf)\n",
    "\n",
    "#Predict test set\n",
    "y_lasso_pred_rf = lasso.predict(X_test_rf) "
   ]
  },
  {
   "cell_type": "code",
   "execution_count": 24,
   "id": "275d0cb3",
   "metadata": {},
   "outputs": [],
   "source": [
    "#Get R-square and mse\n",
    "r2_lasso_rf = r2_score(y_test_rf, y_lasso_pred_rf)\n",
    "mse_lasso_rf = mean_squared_error(y_test_rf, y_lasso_pred_rf)"
   ]
  },
  {
   "cell_type": "markdown",
   "id": "5688f621",
   "metadata": {},
   "source": [
    "Linear Regression using Lasso Rularization based on ANOVA F-test"
   ]
  },
  {
   "cell_type": "code",
   "execution_count": 25,
   "id": "5a685c54",
   "metadata": {},
   "outputs": [],
   "source": [
    "#Linear regression using Ridge for training set based on Random Forest\n",
    "lasso = Lasso(alpha=1.0)\n",
    "lasso.fit(X_train_anova, y_train_anova)\n",
    "\n",
    "#Predict test set\n",
    "y_lasso_pred_anova = lasso.predict(X_test_anova)"
   ]
  },
  {
   "cell_type": "code",
   "execution_count": 26,
   "id": "5dbd75da",
   "metadata": {},
   "outputs": [],
   "source": [
    "#Get R-square and mse\n",
    "r2_lasso_anova = r2_score(y_test_anova, y_lasso_pred_anova)\n",
    "mse_lasso_anova = mean_squared_error(y_test_anova, y_lasso_pred_anova)"
   ]
  },
  {
   "cell_type": "markdown",
   "id": "ab494b8b",
   "metadata": {},
   "source": [
    "The results are shown below."
   ]
  },
  {
   "cell_type": "code",
   "execution_count": 27,
   "id": "f426fda5",
   "metadata": {},
   "outputs": [
    {
     "name": "stdout",
     "output_type": "stream",
     "text": [
      "The R-square using Lasso Regularization based on Random Forest is  -0.0045408805031446065\n",
      "The mean square error using Lasso Regularization based on Random Forest is  0.17270977508650517\n",
      "The R-square using Lasso Regularization based on ANOVA F-test is  -0.0045408805031446065\n",
      "The mean square error using Lasso Regularization based on ANOVA F-test is  0.17270977508650517\n"
     ]
    }
   ],
   "source": [
    "print('The R-square using Lasso Regularization based on Random Forest is ', r2_lasso_rf)\n",
    "print('The mean square error using Lasso Regularization based on Random Forest is ', mse_lasso_rf)\n",
    "print('The R-square using Lasso Regularization based on ANOVA F-test is ', r2_lasso_anova)\n",
    "print('The mean square error using Lasso Regularization based on ANOVA F-test is ', mse_lasso_anova)"
   ]
  },
  {
   "cell_type": "markdown",
   "id": "dd1b700f",
   "metadata": {},
   "source": [
    "The results from Random Forest and ANOVA F-test feature selection are the same. The Lasso Regularization shows better result compared to Ridge Regularization when using linear regression. This may be because Lasso Regularization helps simplifying the model. However, in my opinion, linear regression is more suitable when target variable has continuous values."
   ]
  },
  {
   "cell_type": "markdown",
   "id": "1dfa9fb1",
   "metadata": {},
   "source": [
    "# Section II: Logistic Regression"
   ]
  },
  {
   "cell_type": "markdown",
   "id": "2ce48bb8",
   "metadata": {},
   "source": [
    "# Ridge Regularization"
   ]
  },
  {
   "cell_type": "markdown",
   "id": "0c18c5c5",
   "metadata": {},
   "source": [
    "Logistic Regression using Ridge Rularization based on Random Forest"
   ]
  },
  {
   "cell_type": "code",
   "execution_count": 21,
   "id": "bb4ef609",
   "metadata": {},
   "outputs": [
    {
     "data": {
      "text/plain": [
       "LogisticRegression(solver='liblinear')"
      ]
     },
     "execution_count": 21,
     "metadata": {},
     "output_type": "execute_result"
    }
   ],
   "source": [
    "ridge_log = LogisticRegression(penalty='l2', solver='liblinear') #I add solver for small to medium dataset. It works for both Ridge and Lasso\n",
    "ridge_log.fit(X_train_rf, y_train_rf)"
   ]
  },
  {
   "cell_type": "code",
   "execution_count": 22,
   "id": "622d0a82",
   "metadata": {},
   "outputs": [],
   "source": [
    "#Predict and get accuracy score\n",
    "y_pred = ridge_log.predict(X_test_rf)\n",
    "accuracy = accuracy_score(y_test_rf, y_pred)"
   ]
  },
  {
   "cell_type": "code",
   "execution_count": 23,
   "id": "838b9b2c",
   "metadata": {},
   "outputs": [],
   "source": [
    "y_pred = ridge_log.predict(X_test_rf)\n",
    "accuracy = accuracy_score(y_test_rf, y_pred)"
   ]
  },
  {
   "cell_type": "code",
   "execution_count": 24,
   "id": "dd70a70e",
   "metadata": {},
   "outputs": [
    {
     "data": {
      "text/plain": [
       "0.7764705882352941"
      ]
     },
     "execution_count": 24,
     "metadata": {},
     "output_type": "execute_result"
    }
   ],
   "source": [
    "accuracy"
   ]
  },
  {
   "cell_type": "code",
   "execution_count": 25,
   "id": "1fe8e3f1",
   "metadata": {},
   "outputs": [
    {
     "name": "stdout",
     "output_type": "stream",
     "text": [
      "              precision    recall  f1-score   support\n",
      "\n",
      "           0       0.33      0.01      0.03        75\n",
      "           1       0.78      0.99      0.87       265\n",
      "\n",
      "    accuracy                           0.78       340\n",
      "   macro avg       0.56      0.50      0.45       340\n",
      "weighted avg       0.68      0.78      0.69       340\n",
      "\n"
     ]
    }
   ],
   "source": [
    "#Show classification report\n",
    "print(classification_report(y_test_rf, y_pred))"
   ]
  },
  {
   "cell_type": "markdown",
   "id": "307d8f59",
   "metadata": {},
   "source": [
    "Logistic Regression using Ridge Rularization based on ANOVA F-test"
   ]
  },
  {
   "cell_type": "code",
   "execution_count": 26,
   "id": "ab5d712f",
   "metadata": {},
   "outputs": [
    {
     "data": {
      "text/plain": [
       "LogisticRegression(solver='liblinear')"
      ]
     },
     "execution_count": 26,
     "metadata": {},
     "output_type": "execute_result"
    }
   ],
   "source": [
    "#Fit Logistic Regression\n",
    "ridge_log = LogisticRegression(penalty='l2', solver='liblinear')\n",
    "ridge_log.fit(X_train_anova, y_train_anova)"
   ]
  },
  {
   "cell_type": "code",
   "execution_count": 27,
   "id": "ac768131",
   "metadata": {},
   "outputs": [],
   "source": [
    "#Predict and get accuracy score\n",
    "y_pred = ridge_log.predict(X_test_anova)\n",
    "accuracy = accuracy_score(y_test_anova, y_pred)"
   ]
  },
  {
   "cell_type": "code",
   "execution_count": 28,
   "id": "5c37581c",
   "metadata": {},
   "outputs": [
    {
     "data": {
      "text/plain": [
       "0.7823529411764706"
      ]
     },
     "execution_count": 28,
     "metadata": {},
     "output_type": "execute_result"
    }
   ],
   "source": [
    "accuracy"
   ]
  },
  {
   "cell_type": "code",
   "execution_count": 29,
   "id": "7bab0626",
   "metadata": {},
   "outputs": [
    {
     "name": "stdout",
     "output_type": "stream",
     "text": [
      "              precision    recall  f1-score   support\n",
      "\n",
      "           0       0.56      0.07      0.12        75\n",
      "           1       0.79      0.98      0.88       265\n",
      "\n",
      "    accuracy                           0.78       340\n",
      "   macro avg       0.67      0.53      0.50       340\n",
      "weighted avg       0.74      0.78      0.71       340\n",
      "\n"
     ]
    }
   ],
   "source": [
    "#Show classification report\n",
    "print(classification_report(y_test_anova, y_pred))"
   ]
  },
  {
   "cell_type": "markdown",
   "id": "f4853d39",
   "metadata": {},
   "source": [
    "The model based on ANOVA F-test has accuracy score of 78.24%, which is slightly higher than model based on Random Forest with accuracy score 77.65%. In addition, the precision for predicting whether firm is investment grade is higher for model based on ANOVA F-test."
   ]
  },
  {
   "cell_type": "markdown",
   "id": "e2bc5920",
   "metadata": {},
   "source": [
    "# Lasso Regularization"
   ]
  },
  {
   "cell_type": "markdown",
   "id": "5a563b17",
   "metadata": {},
   "source": [
    "Logistic Regression using Lasso Rularization based on Random Forest"
   ]
  },
  {
   "cell_type": "code",
   "execution_count": 30,
   "id": "b4c0e02e",
   "metadata": {},
   "outputs": [
    {
     "data": {
      "text/plain": [
       "LogisticRegression(penalty='l1', solver='liblinear')"
      ]
     },
     "execution_count": 30,
     "metadata": {},
     "output_type": "execute_result"
    }
   ],
   "source": [
    "#Fit Logistic Regression\n",
    "lasso_log = LogisticRegression(penalty='l1', solver='liblinear')\n",
    "lasso_log.fit(X_train_rf, y_train_rf)"
   ]
  },
  {
   "cell_type": "code",
   "execution_count": 31,
   "id": "0eba0f7e",
   "metadata": {},
   "outputs": [],
   "source": [
    "#Predict and get accuracy score\n",
    "y_pred = lasso_log.predict(X_test_rf)\n",
    "accuracy = accuracy_score(y_test_rf, y_pred)"
   ]
  },
  {
   "cell_type": "code",
   "execution_count": 32,
   "id": "906668db",
   "metadata": {},
   "outputs": [
    {
     "data": {
      "text/plain": [
       "0.7764705882352941"
      ]
     },
     "execution_count": 32,
     "metadata": {},
     "output_type": "execute_result"
    }
   ],
   "source": [
    "accuracy"
   ]
  },
  {
   "cell_type": "code",
   "execution_count": 33,
   "id": "22051aa4",
   "metadata": {},
   "outputs": [
    {
     "name": "stdout",
     "output_type": "stream",
     "text": [
      "              precision    recall  f1-score   support\n",
      "\n",
      "           0       0.33      0.01      0.03        75\n",
      "           1       0.78      0.99      0.87       265\n",
      "\n",
      "    accuracy                           0.78       340\n",
      "   macro avg       0.56      0.50      0.45       340\n",
      "weighted avg       0.68      0.78      0.69       340\n",
      "\n"
     ]
    }
   ],
   "source": [
    "#Show classification report\n",
    "print(classification_report(y_test_rf, y_pred))"
   ]
  },
  {
   "cell_type": "markdown",
   "id": "e0e76d56",
   "metadata": {},
   "source": [
    "Logistic Regression using Lasso Rularization based on ANOVA F-test"
   ]
  },
  {
   "cell_type": "code",
   "execution_count": 34,
   "id": "11175978",
   "metadata": {},
   "outputs": [
    {
     "data": {
      "text/plain": [
       "LogisticRegression(penalty='l1', solver='liblinear')"
      ]
     },
     "execution_count": 34,
     "metadata": {},
     "output_type": "execute_result"
    }
   ],
   "source": [
    "#Fit Logistic Regression\n",
    "lasso_log = LogisticRegression(penalty='l1', solver='liblinear')\n",
    "lasso_log.fit(X_train_anova, y_train_anova)"
   ]
  },
  {
   "cell_type": "code",
   "execution_count": 35,
   "id": "902044f4",
   "metadata": {},
   "outputs": [],
   "source": [
    "#Predict and get accuracy score\n",
    "y_pred = lasso_log.predict(X_test_anova)\n",
    "accuracy = accuracy_score(y_test_anova, y_pred)"
   ]
  },
  {
   "cell_type": "code",
   "execution_count": 36,
   "id": "c4f6383d",
   "metadata": {},
   "outputs": [
    {
     "data": {
      "text/plain": [
       "0.7823529411764706"
      ]
     },
     "execution_count": 36,
     "metadata": {},
     "output_type": "execute_result"
    }
   ],
   "source": [
    "accuracy"
   ]
  },
  {
   "cell_type": "code",
   "execution_count": 37,
   "id": "48e412ed",
   "metadata": {},
   "outputs": [
    {
     "name": "stdout",
     "output_type": "stream",
     "text": [
      "              precision    recall  f1-score   support\n",
      "\n",
      "           0       0.56      0.07      0.12        75\n",
      "           1       0.79      0.98      0.88       265\n",
      "\n",
      "    accuracy                           0.78       340\n",
      "   macro avg       0.67      0.53      0.50       340\n",
      "weighted avg       0.74      0.78      0.71       340\n",
      "\n"
     ]
    }
   ],
   "source": [
    "#Show classification report\n",
    "print(classification_report(y_test_anova, y_pred))"
   ]
  },
  {
   "cell_type": "markdown",
   "id": "ea0c76d9",
   "metadata": {},
   "source": [
    "The model based on Random Forest using Ridge and Lasso Regularizations give the same result. This also happens to the model based on ANOVA F-test. I tried to increase C to reduce regularization strength and iterations, but the result remains the same. "
   ]
  },
  {
   "cell_type": "markdown",
   "id": "9b0351a6",
   "metadata": {},
   "source": [
    "# Conclusion"
   ]
  },
  {
   "cell_type": "markdown",
   "id": "a1c6256a",
   "metadata": {},
   "source": [
    "For the linear regression results, the Lasso Regularization performs slightly better than Ridge Regularization. The R-square is closer to zero and the mse is smaller for model Lasso Regularization. The difference between the model selected features based on Random Forest and ANOVA F-test is negligible. In general, linear regression method performs poorly to predict whether a firm is investment grade. The negative R-square shows that the selected features barely explain the model, and the high mse shows that the difference between predicted and actual values are large. Hence, the linear regression model is not suitable for predicting whether a firm is investment grade.\n",
    "\n",
    "For the logistic regression results, the model using features selected by ANOVA F-test slightly has higher accuracy rate (78.24%) compared to the model using features selected by Random Forest (77.65%). One of the assumptions is that the ANOVA F-test model has higher precision when predicting firm is not investment grade (56%), while the Random Forest model has precision rate of 33%. It is more difficult to predict when firm is not investment grade probably due to smaller sample. The logistic regression with Ridge and Lasso Regularizations have the same result. This may indicate that the regularization barely has impact on the model.\n",
    "\n",
    "For Neural Networks approach, the accuracy rate when predicting whether a firm is investment grade is 82.35%, while it is 39.12% when predicting credit rating. When predicting investment grade, the NN performs better than other approaches for several reasons. First, the NN can learn more complex and non-linear patterns wich normally appears in financial data. Second, it allows interactions and combinations between features. Third, it has 'Dropout' feature to prevent overfitting and can focus more on important features. The process of features selection is not required. However, the NN approach requires more computational resources and more time for training compared to other approaches. It is also difficult to interpret and show the relationships between features and target variable. If we want to see those relationships, the logistic regression approach can be more useful.\n",
    "\n",
    "When predicting credit rating, the NN approach does not show impressive result. It can be due to some reasons. First, credit rating has 16 categories, which is more complicated than predicting binary target variable. Second, the dataset is small-meduim size which is difficult for a model to learn. Third, there is a large difference in number of firms in each credit rating. For example, the number of firms that has Caa1 credit rating accounted only 0.5% of the total number of firms. It can be difficult for a model to learn and predict patterns for those ratings.\n",
    "\n",
    "To conclude, the NN approach performs the best when predicting whether a firm is investment grade by considering accuracy rate. The NN approach does not perform very well when predicting firm credit rating."
   ]
  },
  {
   "cell_type": "markdown",
   "id": "ee7827bb",
   "metadata": {},
   "source": [
    "# References"
   ]
  },
  {
   "cell_type": "markdown",
   "id": "ab72e069",
   "metadata": {},
   "source": [
    "https://www.simplilearn.com/tutorials/machine-learning-tutorial/feature-selection-in-machine-learning\n",
    "https://towardsdatascience.com/which-models-require-normalized-data-d85ca3c85388#:~:text=Lasso%2C%20Ridge%20and%20Elastic%20Net,same%20for%20all%20the%20variables.&text=Logistic%20regression%20requires%20normalization%20as,problem%20during%20the%20training%20phase.\n",
    "https://scikit-learn.org/stable/modules/generated/sklearn.linear_model.LogisticRegression.html\n"
   ]
  }
 ],
 "metadata": {
  "kernelspec": {
   "display_name": "Python 3 (ipykernel)",
   "language": "python",
   "name": "python3"
  },
  "language_info": {
   "codemirror_mode": {
    "name": "ipython",
    "version": 3
   },
   "file_extension": ".py",
   "mimetype": "text/x-python",
   "name": "python",
   "nbconvert_exporter": "python",
   "pygments_lexer": "ipython3",
   "version": "3.9.12"
  }
 },
 "nbformat": 4,
 "nbformat_minor": 5
}
